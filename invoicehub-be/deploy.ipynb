{
 "cells": [
  {
   "cell_type": "code",
   "execution_count": 5,
   "metadata": {},
   "outputs": [],
   "source": [
    "GOOGLE_CLOUD_PROJECT=\"invoice-hub\"\n",
    "GOOGLE_CLOUD_REGION=\"asia-southeast1\"\n",
    "ARTIFACT_REGISTRY_REPO=f\"{GOOGLE_CLOUD_REGION}-docker.pkg.dev/{GOOGLE_CLOUD_PROJECT}/{GOOGLE_CLOUD_PROJECT}-docker\"\n",
    "SERVICE_NAME=f\"{GOOGLE_CLOUD_PROJECT}-be\""
   ]
  },
  {
   "cell_type": "code",
   "execution_count": 9,
   "metadata": {},
   "outputs": [
    {
     "name": "stdout",
     "output_type": "stream",
     "text": [
      "gcloud artifacts repositories create invoice-hub-docker --repository-format docker --location asia-southeast1 --project invoice-hub --description \"Docker Repository\"\n"
     ]
    }
   ],
   "source": [
    "print(f'gcloud artifacts repositories create {GOOGLE_CLOUD_PROJECT}-docker',\n",
    "      f'--repository-format docker',\n",
    "      f'--location {GOOGLE_CLOUD_REGION}',\n",
    "      f'--project {GOOGLE_CLOUD_PROJECT}',\n",
    "      f'--description \"Docker Repository\"')"
   ]
  },
  {
   "cell_type": "code",
   "execution_count": 10,
   "metadata": {},
   "outputs": [
    {
     "name": "stdout",
     "output_type": "stream",
     "text": [
      "gcloud builds submit --tag asia-southeast1-docker.pkg.dev/invoice-hub/invoice-hub-docker/invoice-hub-be --project invoice-hub\n"
     ]
    }
   ],
   "source": [
    "print(f'gcloud builds submit --tag {ARTIFACT_REGISTRY_REPO}/{SERVICE_NAME}',\n",
    "      f'--project {GOOGLE_CLOUD_PROJECT}')"
   ]
  },
  {
   "cell_type": "code",
   "execution_count": 11,
   "metadata": {},
   "outputs": [
    {
     "name": "stdout",
     "output_type": "stream",
     "text": [
      "gcloud run deploy invoice-hub-be --image asia-southeast1-docker.pkg.dev/invoice-hub/invoice-hub-docker/invoice-hub-be --min-instances 0 --max-instances 1 --allow-unauthenticated --platform managed --region asia-southeast1 --project invoice-hub\n"
     ]
    }
   ],
   "source": [
    "print(f'gcloud run deploy {SERVICE_NAME}',\n",
    "    f'--image {ARTIFACT_REGISTRY_REPO}/{SERVICE_NAME}',\n",
    "    f'--min-instances 0',\n",
    "    f'--max-instances 1',\n",
    "    f'--allow-unauthenticated',\n",
    "    f'--platform managed',\n",
    "    f'--region {GOOGLE_CLOUD_REGION}',\n",
    "    f'--project {GOOGLE_CLOUD_PROJECT}')"
   ]
  },
  {
   "cell_type": "code",
   "execution_count": null,
   "metadata": {},
   "outputs": [],
   "source": []
  }
 ],
 "metadata": {
  "kernelspec": {
   "display_name": "Python 3",
   "language": "python",
   "name": "python3"
  },
  "language_info": {
   "codemirror_mode": {
    "name": "ipython",
    "version": 3
   },
   "file_extension": ".py",
   "mimetype": "text/x-python",
   "name": "python",
   "nbconvert_exporter": "python",
   "pygments_lexer": "ipython3",
   "version": "3.8.16"
  }
 },
 "nbformat": 4,
 "nbformat_minor": 2
}
